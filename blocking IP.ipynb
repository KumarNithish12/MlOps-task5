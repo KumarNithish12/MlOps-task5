{
 "cells": [
  {
   "cell_type": "code",
   "execution_count": 1,
   "metadata": {},
   "outputs": [],
   "source": [
    "import pandas as pd"
   ]
  },
  {
   "cell_type": "code",
   "execution_count": 2,
   "metadata": {},
   "outputs": [],
   "source": [
    "dataset = pd.read_csv('webserverlog.csv')"
   ]
  },
  {
   "cell_type": "code",
   "execution_count": 3,
   "metadata": {},
   "outputs": [
    {
     "data": {
      "text/html": [
       "<div>\n",
       "<style scoped>\n",
       "    .dataframe tbody tr th:only-of-type {\n",
       "        vertical-align: middle;\n",
       "    }\n",
       "\n",
       "    .dataframe tbody tr th {\n",
       "        vertical-align: top;\n",
       "    }\n",
       "\n",
       "    .dataframe thead th {\n",
       "        text-align: right;\n",
       "    }\n",
       "</style>\n",
       "<table border=\"1\" class=\"dataframe\">\n",
       "  <thead>\n",
       "    <tr style=\"text-align: right;\">\n",
       "      <th></th>\n",
       "      <th>Host</th>\n",
       "      <th>Log Name</th>\n",
       "      <th>Date Time</th>\n",
       "      <th>Time Zone</th>\n",
       "      <th>Method</th>\n",
       "      <th>URL</th>\n",
       "      <th>Response Code</th>\n",
       "      <th>Bytes Sent</th>\n",
       "      <th>Referer</th>\n",
       "      <th>User Agent</th>\n",
       "    </tr>\n",
       "  </thead>\n",
       "  <tbody>\n",
       "    <tr>\n",
       "      <th>0</th>\n",
       "      <td>192.168.99.1</td>\n",
       "      <td>-</td>\n",
       "      <td>2020-06-26 09:59:05</td>\n",
       "      <td>GMT+0530</td>\n",
       "      <td>GET</td>\n",
       "      <td>/</td>\n",
       "      <td>200</td>\n",
       "      <td>36</td>\n",
       "      <td>-</td>\n",
       "      <td>Mozilla/5.0 (X11; Linux x86_64) AppleWebKit/53...</td>\n",
       "    </tr>\n",
       "    <tr>\n",
       "      <th>1</th>\n",
       "      <td>192.168.99.1</td>\n",
       "      <td>-</td>\n",
       "      <td>2020-06-26 09:59:06</td>\n",
       "      <td>GMT+0530</td>\n",
       "      <td>GET</td>\n",
       "      <td>/favicon.ico</td>\n",
       "      <td>404</td>\n",
       "      <td>209</td>\n",
       "      <td>http://192.168.99.102/</td>\n",
       "      <td>Mozilla/5.0 (X11; Linux x86_64) AppleWebKit/53...</td>\n",
       "    </tr>\n",
       "    <tr>\n",
       "      <th>2</th>\n",
       "      <td>192.168.99.1</td>\n",
       "      <td>-</td>\n",
       "      <td>2020-06-26 10:00:03</td>\n",
       "      <td>GMT+0530</td>\n",
       "      <td>GET</td>\n",
       "      <td>/?NZBW=RGN</td>\n",
       "      <td>200</td>\n",
       "      <td>36</td>\n",
       "      <td>http://www.google.com/?q=MZPDYWETQF</td>\n",
       "      <td>Mozilla/5.0 (Windows; U; Windows NT 5.1; en-US...</td>\n",
       "    </tr>\n",
       "    <tr>\n",
       "      <th>3</th>\n",
       "      <td>192.168.99.1</td>\n",
       "      <td>-</td>\n",
       "      <td>2020-06-26 10:00:03</td>\n",
       "      <td>GMT+0530</td>\n",
       "      <td>GET</td>\n",
       "      <td>/?NZBW=RGN</td>\n",
       "      <td>200</td>\n",
       "      <td>36</td>\n",
       "      <td>http://www.google.com/?q=MZPDYWETQF</td>\n",
       "      <td>Mozilla/5.0 (Windows; U; Windows NT 5.1; en-US...</td>\n",
       "    </tr>\n",
       "    <tr>\n",
       "      <th>4</th>\n",
       "      <td>192.168.99.1</td>\n",
       "      <td>-</td>\n",
       "      <td>2020-06-26 10:00:03</td>\n",
       "      <td>GMT+0530</td>\n",
       "      <td>GET</td>\n",
       "      <td>/?ZJXVIHEVAZ=NXXRAGHFQ</td>\n",
       "      <td>200</td>\n",
       "      <td>36</td>\n",
       "      <td>http://engadget.search.aol.com/search?q=XJPTOKGP</td>\n",
       "      <td>Mozilla/4.0 (compatible; MSIE 8.0; Windows NT ...</td>\n",
       "    </tr>\n",
       "    <tr>\n",
       "      <th>...</th>\n",
       "      <td>...</td>\n",
       "      <td>...</td>\n",
       "      <td>...</td>\n",
       "      <td>...</td>\n",
       "      <td>...</td>\n",
       "      <td>...</td>\n",
       "      <td>...</td>\n",
       "      <td>...</td>\n",
       "      <td>...</td>\n",
       "      <td>...</td>\n",
       "    </tr>\n",
       "    <tr>\n",
       "      <th>39854</th>\n",
       "      <td>192.168.1.103</td>\n",
       "      <td>-</td>\n",
       "      <td>2020-06-30 16:14:59</td>\n",
       "      <td>GMT+0530</td>\n",
       "      <td>GET</td>\n",
       "      <td>/</td>\n",
       "      <td>200</td>\n",
       "      <td>36</td>\n",
       "      <td>-</td>\n",
       "      <td>curl/7.61.1</td>\n",
       "    </tr>\n",
       "    <tr>\n",
       "      <th>39855</th>\n",
       "      <td>192.168.1.103</td>\n",
       "      <td>-</td>\n",
       "      <td>2020-06-30 16:14:59</td>\n",
       "      <td>GMT+0530</td>\n",
       "      <td>GET</td>\n",
       "      <td>/</td>\n",
       "      <td>200</td>\n",
       "      <td>36</td>\n",
       "      <td>-</td>\n",
       "      <td>curl/7.61.1</td>\n",
       "    </tr>\n",
       "    <tr>\n",
       "      <th>39856</th>\n",
       "      <td>192.168.1.103</td>\n",
       "      <td>-</td>\n",
       "      <td>2020-06-30 16:14:59</td>\n",
       "      <td>GMT+0530</td>\n",
       "      <td>GET</td>\n",
       "      <td>/</td>\n",
       "      <td>200</td>\n",
       "      <td>36</td>\n",
       "      <td>-</td>\n",
       "      <td>curl/7.61.1</td>\n",
       "    </tr>\n",
       "    <tr>\n",
       "      <th>39857</th>\n",
       "      <td>192.168.1.103</td>\n",
       "      <td>-</td>\n",
       "      <td>2020-06-30 16:14:59</td>\n",
       "      <td>GMT+0530</td>\n",
       "      <td>GET</td>\n",
       "      <td>/</td>\n",
       "      <td>200</td>\n",
       "      <td>36</td>\n",
       "      <td>-</td>\n",
       "      <td>curl/7.61.1</td>\n",
       "    </tr>\n",
       "    <tr>\n",
       "      <th>39858</th>\n",
       "      <td>192.168.1.103</td>\n",
       "      <td>-</td>\n",
       "      <td>2020-06-30 16:14:59</td>\n",
       "      <td>GMT+0530</td>\n",
       "      <td>GET</td>\n",
       "      <td>/</td>\n",
       "      <td>200</td>\n",
       "      <td>36</td>\n",
       "      <td>-</td>\n",
       "      <td>curl/7.61.1</td>\n",
       "    </tr>\n",
       "  </tbody>\n",
       "</table>\n",
       "<p>39859 rows × 10 columns</p>\n",
       "</div>"
      ],
      "text/plain": [
       "                Host Log Name            Date Time Time Zone Method  \\\n",
       "0       192.168.99.1        -  2020-06-26 09:59:05  GMT+0530    GET   \n",
       "1       192.168.99.1        -  2020-06-26 09:59:06  GMT+0530    GET   \n",
       "2       192.168.99.1        -  2020-06-26 10:00:03  GMT+0530    GET   \n",
       "3       192.168.99.1        -  2020-06-26 10:00:03  GMT+0530    GET   \n",
       "4       192.168.99.1        -  2020-06-26 10:00:03  GMT+0530    GET   \n",
       "...              ...      ...                  ...       ...    ...   \n",
       "39854  192.168.1.103        -  2020-06-30 16:14:59  GMT+0530    GET   \n",
       "39855  192.168.1.103        -  2020-06-30 16:14:59  GMT+0530    GET   \n",
       "39856  192.168.1.103        -  2020-06-30 16:14:59  GMT+0530    GET   \n",
       "39857  192.168.1.103        -  2020-06-30 16:14:59  GMT+0530    GET   \n",
       "39858  192.168.1.103        -  2020-06-30 16:14:59  GMT+0530    GET   \n",
       "\n",
       "                          URL  Response Code  Bytes Sent  \\\n",
       "0                           /            200          36   \n",
       "1                /favicon.ico            404         209   \n",
       "2                  /?NZBW=RGN            200          36   \n",
       "3                  /?NZBW=RGN            200          36   \n",
       "4      /?ZJXVIHEVAZ=NXXRAGHFQ            200          36   \n",
       "...                       ...            ...         ...   \n",
       "39854                       /            200          36   \n",
       "39855                       /            200          36   \n",
       "39856                       /            200          36   \n",
       "39857                       /            200          36   \n",
       "39858                       /            200          36   \n",
       "\n",
       "                                                Referer  \\\n",
       "0                                                     -   \n",
       "1                                http://192.168.99.102/   \n",
       "2                   http://www.google.com/?q=MZPDYWETQF   \n",
       "3                   http://www.google.com/?q=MZPDYWETQF   \n",
       "4      http://engadget.search.aol.com/search?q=XJPTOKGP   \n",
       "...                                                 ...   \n",
       "39854                                                 -   \n",
       "39855                                                 -   \n",
       "39856                                                 -   \n",
       "39857                                                 -   \n",
       "39858                                                 -   \n",
       "\n",
       "                                              User Agent  \n",
       "0      Mozilla/5.0 (X11; Linux x86_64) AppleWebKit/53...  \n",
       "1      Mozilla/5.0 (X11; Linux x86_64) AppleWebKit/53...  \n",
       "2      Mozilla/5.0 (Windows; U; Windows NT 5.1; en-US...  \n",
       "3      Mozilla/5.0 (Windows; U; Windows NT 5.1; en-US...  \n",
       "4      Mozilla/4.0 (compatible; MSIE 8.0; Windows NT ...  \n",
       "...                                                  ...  \n",
       "39854                                        curl/7.61.1  \n",
       "39855                                        curl/7.61.1  \n",
       "39856                                        curl/7.61.1  \n",
       "39857                                        curl/7.61.1  \n",
       "39858                                        curl/7.61.1  \n",
       "\n",
       "[39859 rows x 10 columns]"
      ]
     },
     "execution_count": 3,
     "metadata": {},
     "output_type": "execute_result"
    }
   ],
   "source": [
    "dataset"
   ]
  },
  {
   "cell_type": "code",
   "execution_count": 4,
   "metadata": {},
   "outputs": [],
   "source": [
    "newdata = dataset.drop(['Log Name' , 'Time Zone' , 'Method' , 'Referer' , 'Bytes Sent', 'User Agent'], axis=1)"
   ]
  },
  {
   "cell_type": "code",
   "execution_count": 5,
   "metadata": {},
   "outputs": [
    {
     "data": {
      "text/html": [
       "<div>\n",
       "<style scoped>\n",
       "    .dataframe tbody tr th:only-of-type {\n",
       "        vertical-align: middle;\n",
       "    }\n",
       "\n",
       "    .dataframe tbody tr th {\n",
       "        vertical-align: top;\n",
       "    }\n",
       "\n",
       "    .dataframe thead th {\n",
       "        text-align: right;\n",
       "    }\n",
       "</style>\n",
       "<table border=\"1\" class=\"dataframe\">\n",
       "  <thead>\n",
       "    <tr style=\"text-align: right;\">\n",
       "      <th></th>\n",
       "      <th>Host</th>\n",
       "      <th>Date Time</th>\n",
       "      <th>URL</th>\n",
       "      <th>Response Code</th>\n",
       "    </tr>\n",
       "  </thead>\n",
       "  <tbody>\n",
       "    <tr>\n",
       "      <th>0</th>\n",
       "      <td>192.168.99.1</td>\n",
       "      <td>2020-06-26 09:59:05</td>\n",
       "      <td>/</td>\n",
       "      <td>200</td>\n",
       "    </tr>\n",
       "    <tr>\n",
       "      <th>1</th>\n",
       "      <td>192.168.99.1</td>\n",
       "      <td>2020-06-26 09:59:06</td>\n",
       "      <td>/favicon.ico</td>\n",
       "      <td>404</td>\n",
       "    </tr>\n",
       "    <tr>\n",
       "      <th>2</th>\n",
       "      <td>192.168.99.1</td>\n",
       "      <td>2020-06-26 10:00:03</td>\n",
       "      <td>/?NZBW=RGN</td>\n",
       "      <td>200</td>\n",
       "    </tr>\n",
       "    <tr>\n",
       "      <th>3</th>\n",
       "      <td>192.168.99.1</td>\n",
       "      <td>2020-06-26 10:00:03</td>\n",
       "      <td>/?NZBW=RGN</td>\n",
       "      <td>200</td>\n",
       "    </tr>\n",
       "    <tr>\n",
       "      <th>4</th>\n",
       "      <td>192.168.99.1</td>\n",
       "      <td>2020-06-26 10:00:03</td>\n",
       "      <td>/?ZJXVIHEVAZ=NXXRAGHFQ</td>\n",
       "      <td>200</td>\n",
       "    </tr>\n",
       "    <tr>\n",
       "      <th>...</th>\n",
       "      <td>...</td>\n",
       "      <td>...</td>\n",
       "      <td>...</td>\n",
       "      <td>...</td>\n",
       "    </tr>\n",
       "    <tr>\n",
       "      <th>39854</th>\n",
       "      <td>192.168.1.103</td>\n",
       "      <td>2020-06-30 16:14:59</td>\n",
       "      <td>/</td>\n",
       "      <td>200</td>\n",
       "    </tr>\n",
       "    <tr>\n",
       "      <th>39855</th>\n",
       "      <td>192.168.1.103</td>\n",
       "      <td>2020-06-30 16:14:59</td>\n",
       "      <td>/</td>\n",
       "      <td>200</td>\n",
       "    </tr>\n",
       "    <tr>\n",
       "      <th>39856</th>\n",
       "      <td>192.168.1.103</td>\n",
       "      <td>2020-06-30 16:14:59</td>\n",
       "      <td>/</td>\n",
       "      <td>200</td>\n",
       "    </tr>\n",
       "    <tr>\n",
       "      <th>39857</th>\n",
       "      <td>192.168.1.103</td>\n",
       "      <td>2020-06-30 16:14:59</td>\n",
       "      <td>/</td>\n",
       "      <td>200</td>\n",
       "    </tr>\n",
       "    <tr>\n",
       "      <th>39858</th>\n",
       "      <td>192.168.1.103</td>\n",
       "      <td>2020-06-30 16:14:59</td>\n",
       "      <td>/</td>\n",
       "      <td>200</td>\n",
       "    </tr>\n",
       "  </tbody>\n",
       "</table>\n",
       "<p>39859 rows × 4 columns</p>\n",
       "</div>"
      ],
      "text/plain": [
       "                Host            Date Time                     URL  \\\n",
       "0       192.168.99.1  2020-06-26 09:59:05                       /   \n",
       "1       192.168.99.1  2020-06-26 09:59:06            /favicon.ico   \n",
       "2       192.168.99.1  2020-06-26 10:00:03              /?NZBW=RGN   \n",
       "3       192.168.99.1  2020-06-26 10:00:03              /?NZBW=RGN   \n",
       "4       192.168.99.1  2020-06-26 10:00:03  /?ZJXVIHEVAZ=NXXRAGHFQ   \n",
       "...              ...                  ...                     ...   \n",
       "39854  192.168.1.103  2020-06-30 16:14:59                       /   \n",
       "39855  192.168.1.103  2020-06-30 16:14:59                       /   \n",
       "39856  192.168.1.103  2020-06-30 16:14:59                       /   \n",
       "39857  192.168.1.103  2020-06-30 16:14:59                       /   \n",
       "39858  192.168.1.103  2020-06-30 16:14:59                       /   \n",
       "\n",
       "       Response Code  \n",
       "0                200  \n",
       "1                404  \n",
       "2                200  \n",
       "3                200  \n",
       "4                200  \n",
       "...              ...  \n",
       "39854            200  \n",
       "39855            200  \n",
       "39856            200  \n",
       "39857            200  \n",
       "39858            200  \n",
       "\n",
       "[39859 rows x 4 columns]"
      ]
     },
     "execution_count": 5,
     "metadata": {},
     "output_type": "execute_result"
    }
   ],
   "source": [
    "newdata"
   ]
  },
  {
   "cell_type": "code",
   "execution_count": 6,
   "metadata": {},
   "outputs": [],
   "source": [
    "from sklearn.preprocessing import OneHotEncoder, LabelEncoder"
   ]
  },
  {
   "cell_type": "code",
   "execution_count": 7,
   "metadata": {},
   "outputs": [],
   "source": [
    "X = newdata.iloc[:,:]"
   ]
  },
  {
   "cell_type": "code",
   "execution_count": 8,
   "metadata": {},
   "outputs": [],
   "source": [
    "x = X.to_numpy()"
   ]
  },
  {
   "cell_type": "code",
   "execution_count": 9,
   "metadata": {},
   "outputs": [
    {
     "data": {
      "text/plain": [
       "array([['192.168.99.1', '2020-06-26 09:59:05', '/', 200],\n",
       "       ['192.168.99.1', '2020-06-26 09:59:06', '/favicon.ico', 404],\n",
       "       ['192.168.99.1', '2020-06-26 10:00:03', '/?NZBW=RGN', 200],\n",
       "       ...,\n",
       "       ['192.168.1.103', '2020-06-30 16:14:59', '/', 200],\n",
       "       ['192.168.1.103', '2020-06-30 16:14:59', '/', 200],\n",
       "       ['192.168.1.103', '2020-06-30 16:14:59', '/', 200]], dtype=object)"
      ]
     },
     "execution_count": 9,
     "metadata": {},
     "output_type": "execute_result"
    }
   ],
   "source": [
    "x"
   ]
  },
  {
   "cell_type": "code",
   "execution_count": 10,
   "metadata": {},
   "outputs": [],
   "source": [
    "label = LabelEncoder()"
   ]
  },
  {
   "cell_type": "code",
   "execution_count": 11,
   "metadata": {},
   "outputs": [],
   "source": [
    "IP = label.fit_transform(x[:,0])"
   ]
  },
  {
   "cell_type": "code",
   "execution_count": 12,
   "metadata": {},
   "outputs": [
    {
     "data": {
      "text/plain": [
       "array([6, 6, 6, ..., 0, 0, 0])"
      ]
     },
     "execution_count": 12,
     "metadata": {},
     "output_type": "execute_result"
    }
   ],
   "source": [
    "IP"
   ]
  },
  {
   "cell_type": "code",
   "execution_count": 13,
   "metadata": {},
   "outputs": [],
   "source": [
    "Date = label.fit_transform(x[:,1])"
   ]
  },
  {
   "cell_type": "code",
   "execution_count": 14,
   "metadata": {},
   "outputs": [
    {
     "data": {
      "text/plain": [
       "array([  0,   1,   2, ..., 660, 660, 660])"
      ]
     },
     "execution_count": 14,
     "metadata": {},
     "output_type": "execute_result"
    }
   ],
   "source": [
    "Date"
   ]
  },
  {
   "cell_type": "code",
   "execution_count": 15,
   "metadata": {},
   "outputs": [],
   "source": [
    "URL = label.fit_transform(x[:,2])"
   ]
  },
  {
   "cell_type": "code",
   "execution_count": 16,
   "metadata": {},
   "outputs": [],
   "source": [
    "RC = label.fit_transform(x[:,3])"
   ]
  },
  {
   "cell_type": "code",
   "execution_count": 17,
   "metadata": {},
   "outputs": [],
   "source": [
    "df1 = pd.DataFrame(IP, columns=['IP'])"
   ]
  },
  {
   "cell_type": "code",
   "execution_count": 18,
   "metadata": {},
   "outputs": [],
   "source": [
    "df2 = pd.DataFrame(Date, columns=['DATE'])"
   ]
  },
  {
   "cell_type": "code",
   "execution_count": 19,
   "metadata": {},
   "outputs": [],
   "source": [
    "df3 = pd.DataFrame(URL, columns=['URL'])"
   ]
  },
  {
   "cell_type": "code",
   "execution_count": 20,
   "metadata": {},
   "outputs": [],
   "source": [
    "df4 = pd.DataFrame(RC, columns=['Response Code'])"
   ]
  },
  {
   "cell_type": "code",
   "execution_count": 21,
   "metadata": {},
   "outputs": [],
   "source": [
    "frames = [df1, df2, df3, df4]"
   ]
  },
  {
   "cell_type": "code",
   "execution_count": 22,
   "metadata": {},
   "outputs": [],
   "source": [
    "result = pd.concat(frames, axis=1 )"
   ]
  },
  {
   "cell_type": "code",
   "execution_count": 23,
   "metadata": {},
   "outputs": [
    {
     "data": {
      "text/html": [
       "<div>\n",
       "<style scoped>\n",
       "    .dataframe tbody tr th:only-of-type {\n",
       "        vertical-align: middle;\n",
       "    }\n",
       "\n",
       "    .dataframe tbody tr th {\n",
       "        vertical-align: top;\n",
       "    }\n",
       "\n",
       "    .dataframe thead th {\n",
       "        text-align: right;\n",
       "    }\n",
       "</style>\n",
       "<table border=\"1\" class=\"dataframe\">\n",
       "  <thead>\n",
       "    <tr style=\"text-align: right;\">\n",
       "      <th></th>\n",
       "      <th>IP</th>\n",
       "      <th>DATE</th>\n",
       "      <th>URL</th>\n",
       "      <th>Response Code</th>\n",
       "    </tr>\n",
       "  </thead>\n",
       "  <tbody>\n",
       "    <tr>\n",
       "      <th>0</th>\n",
       "      <td>6</td>\n",
       "      <td>0</td>\n",
       "      <td>0</td>\n",
       "      <td>0</td>\n",
       "    </tr>\n",
       "    <tr>\n",
       "      <th>1</th>\n",
       "      <td>6</td>\n",
       "      <td>1</td>\n",
       "      <td>10279</td>\n",
       "      <td>2</td>\n",
       "    </tr>\n",
       "    <tr>\n",
       "      <th>2</th>\n",
       "      <td>6</td>\n",
       "      <td>2</td>\n",
       "      <td>5469</td>\n",
       "      <td>0</td>\n",
       "    </tr>\n",
       "    <tr>\n",
       "      <th>3</th>\n",
       "      <td>6</td>\n",
       "      <td>2</td>\n",
       "      <td>5469</td>\n",
       "      <td>0</td>\n",
       "    </tr>\n",
       "    <tr>\n",
       "      <th>4</th>\n",
       "      <td>6</td>\n",
       "      <td>2</td>\n",
       "      <td>10061</td>\n",
       "      <td>0</td>\n",
       "    </tr>\n",
       "    <tr>\n",
       "      <th>...</th>\n",
       "      <td>...</td>\n",
       "      <td>...</td>\n",
       "      <td>...</td>\n",
       "      <td>...</td>\n",
       "    </tr>\n",
       "    <tr>\n",
       "      <th>39854</th>\n",
       "      <td>0</td>\n",
       "      <td>660</td>\n",
       "      <td>0</td>\n",
       "      <td>0</td>\n",
       "    </tr>\n",
       "    <tr>\n",
       "      <th>39855</th>\n",
       "      <td>0</td>\n",
       "      <td>660</td>\n",
       "      <td>0</td>\n",
       "      <td>0</td>\n",
       "    </tr>\n",
       "    <tr>\n",
       "      <th>39856</th>\n",
       "      <td>0</td>\n",
       "      <td>660</td>\n",
       "      <td>0</td>\n",
       "      <td>0</td>\n",
       "    </tr>\n",
       "    <tr>\n",
       "      <th>39857</th>\n",
       "      <td>0</td>\n",
       "      <td>660</td>\n",
       "      <td>0</td>\n",
       "      <td>0</td>\n",
       "    </tr>\n",
       "    <tr>\n",
       "      <th>39858</th>\n",
       "      <td>0</td>\n",
       "      <td>660</td>\n",
       "      <td>0</td>\n",
       "      <td>0</td>\n",
       "    </tr>\n",
       "  </tbody>\n",
       "</table>\n",
       "<p>39859 rows × 4 columns</p>\n",
       "</div>"
      ],
      "text/plain": [
       "       IP  DATE    URL  Response Code\n",
       "0       6     0      0              0\n",
       "1       6     1  10279              2\n",
       "2       6     2   5469              0\n",
       "3       6     2   5469              0\n",
       "4       6     2  10061              0\n",
       "...    ..   ...    ...            ...\n",
       "39854   0   660      0              0\n",
       "39855   0   660      0              0\n",
       "39856   0   660      0              0\n",
       "39857   0   660      0              0\n",
       "39858   0   660      0              0\n",
       "\n",
       "[39859 rows x 4 columns]"
      ]
     },
     "execution_count": 23,
     "metadata": {},
     "output_type": "execute_result"
    }
   ],
   "source": [
    "result"
   ]
  },
  {
   "cell_type": "code",
   "execution_count": 24,
   "metadata": {},
   "outputs": [],
   "source": [
    "from sklearn.preprocessing import StandardScaler\n",
    "sc = StandardScaler()"
   ]
  },
  {
   "cell_type": "code",
   "execution_count": 25,
   "metadata": {},
   "outputs": [],
   "source": [
    "data_scaled = sc.fit_transform(result)"
   ]
  },
  {
   "cell_type": "code",
   "execution_count": 26,
   "metadata": {},
   "outputs": [
    {
     "data": {
      "text/plain": [
       "array([[ 8.14867689e-01, -1.10731953e+00, -7.87514196e-01,\n",
       "        -1.63609788e-02],\n",
       "       [ 8.14867689e-01, -1.10263387e+00,  2.29898464e+00,\n",
       "         8.15001706e+01],\n",
       "       [ 8.14867689e-01, -1.09794820e+00,  8.54674941e-01,\n",
       "        -1.63609788e-02],\n",
       "       ...,\n",
       "       [-2.07162796e+00,  1.98521769e+00, -7.87514196e-01,\n",
       "        -1.63609788e-02],\n",
       "       [-2.07162796e+00,  1.98521769e+00, -7.87514196e-01,\n",
       "        -1.63609788e-02],\n",
       "       [-2.07162796e+00,  1.98521769e+00, -7.87514196e-01,\n",
       "        -1.63609788e-02]])"
      ]
     },
     "execution_count": 26,
     "metadata": {},
     "output_type": "execute_result"
    }
   ],
   "source": [
    "data_scaled"
   ]
  },
  {
   "cell_type": "code",
   "execution_count": 27,
   "metadata": {},
   "outputs": [],
   "source": [
    "from sklearn.cluster import KMeans"
   ]
  },
  {
   "cell_type": "code",
   "execution_count": 28,
   "metadata": {},
   "outputs": [],
   "source": [
    "model = KMeans(n_clusters=10)"
   ]
  },
  {
   "cell_type": "code",
   "execution_count": 29,
   "metadata": {},
   "outputs": [],
   "source": [
    "pred  = model.fit_predict(data_scaled)"
   ]
  },
  {
   "cell_type": "code",
   "execution_count": 30,
   "metadata": {},
   "outputs": [],
   "source": [
    "dataset_scaled = pd.DataFrame(data_scaled, columns=['IP', 'Date', 'URL', 'Response Code'])"
   ]
  },
  {
   "cell_type": "code",
   "execution_count": 31,
   "metadata": {},
   "outputs": [],
   "source": [
    "dataset_scaled['mycluster'] = pred"
   ]
  },
  {
   "cell_type": "code",
   "execution_count": 32,
   "metadata": {},
   "outputs": [],
   "source": [
    "ips = [dataset['Host'], result['IP']]\n",
    "ips_result = pd.concat(ips, axis=1)"
   ]
  },
  {
   "cell_type": "code",
   "execution_count": 33,
   "metadata": {},
   "outputs": [
    {
     "data": {
      "text/html": [
       "<div>\n",
       "<style scoped>\n",
       "    .dataframe tbody tr th:only-of-type {\n",
       "        vertical-align: middle;\n",
       "    }\n",
       "\n",
       "    .dataframe tbody tr th {\n",
       "        vertical-align: top;\n",
       "    }\n",
       "\n",
       "    .dataframe thead th {\n",
       "        text-align: right;\n",
       "    }\n",
       "</style>\n",
       "<table border=\"1\" class=\"dataframe\">\n",
       "  <thead>\n",
       "    <tr style=\"text-align: right;\">\n",
       "      <th></th>\n",
       "      <th>Host</th>\n",
       "      <th>IP</th>\n",
       "    </tr>\n",
       "  </thead>\n",
       "  <tbody>\n",
       "    <tr>\n",
       "      <th>0</th>\n",
       "      <td>192.168.99.1</td>\n",
       "      <td>6</td>\n",
       "    </tr>\n",
       "    <tr>\n",
       "      <th>1</th>\n",
       "      <td>192.168.99.1</td>\n",
       "      <td>6</td>\n",
       "    </tr>\n",
       "    <tr>\n",
       "      <th>2</th>\n",
       "      <td>192.168.99.1</td>\n",
       "      <td>6</td>\n",
       "    </tr>\n",
       "    <tr>\n",
       "      <th>3</th>\n",
       "      <td>192.168.99.1</td>\n",
       "      <td>6</td>\n",
       "    </tr>\n",
       "    <tr>\n",
       "      <th>4</th>\n",
       "      <td>192.168.99.1</td>\n",
       "      <td>6</td>\n",
       "    </tr>\n",
       "    <tr>\n",
       "      <th>...</th>\n",
       "      <td>...</td>\n",
       "      <td>...</td>\n",
       "    </tr>\n",
       "    <tr>\n",
       "      <th>39854</th>\n",
       "      <td>192.168.1.103</td>\n",
       "      <td>0</td>\n",
       "    </tr>\n",
       "    <tr>\n",
       "      <th>39855</th>\n",
       "      <td>192.168.1.103</td>\n",
       "      <td>0</td>\n",
       "    </tr>\n",
       "    <tr>\n",
       "      <th>39856</th>\n",
       "      <td>192.168.1.103</td>\n",
       "      <td>0</td>\n",
       "    </tr>\n",
       "    <tr>\n",
       "      <th>39857</th>\n",
       "      <td>192.168.1.103</td>\n",
       "      <td>0</td>\n",
       "    </tr>\n",
       "    <tr>\n",
       "      <th>39858</th>\n",
       "      <td>192.168.1.103</td>\n",
       "      <td>0</td>\n",
       "    </tr>\n",
       "  </tbody>\n",
       "</table>\n",
       "<p>39859 rows × 2 columns</p>\n",
       "</div>"
      ],
      "text/plain": [
       "                Host  IP\n",
       "0       192.168.99.1   6\n",
       "1       192.168.99.1   6\n",
       "2       192.168.99.1   6\n",
       "3       192.168.99.1   6\n",
       "4       192.168.99.1   6\n",
       "...              ...  ..\n",
       "39854  192.168.1.103   0\n",
       "39855  192.168.1.103   0\n",
       "39856  192.168.1.103   0\n",
       "39857  192.168.1.103   0\n",
       "39858  192.168.1.103   0\n",
       "\n",
       "[39859 rows x 2 columns]"
      ]
     },
     "execution_count": 33,
     "metadata": {},
     "output_type": "execute_result"
    }
   ],
   "source": [
    "ips_result"
   ]
  },
  {
   "cell_type": "code",
   "execution_count": 34,
   "metadata": {},
   "outputs": [],
   "source": [
    "def CountFrequency(my_list, ip_label): \n",
    "  \n",
    "    # Creating an empty dictionary  \n",
    "    freq = {} \n",
    "    for item in my_list: \n",
    "        if (item in freq): \n",
    "            freq[item] += 1\n",
    "        else: \n",
    "            freq[item] = 1\n",
    "    max_freq = 0\n",
    "    max_key = 0\n",
    "    for key, value in freq.items(): \n",
    "        if value > max_freq:\n",
    "            max_freq = value\n",
    "            max_key = key\n",
    "    \n",
    "    return ip_label[my_list.index(max_key)]\n"
   ]
  },
  {
   "cell_type": "code",
   "execution_count": 40,
   "metadata": {},
   "outputs": [],
   "source": [
    "res = CountFrequency(ips_result['IP'].tolist(), ips_result['Host'].tolist())"
   ]
  },
  {
   "cell_type": "code",
   "execution_count": 41,
   "metadata": {},
   "outputs": [],
   "source": [
    "res = str(res)"
   ]
  },
  {
   "cell_type": "code",
   "execution_count": 42,
   "metadata": {},
   "outputs": [],
   "source": [
    "file1 = open(\"blockIP.txt\",\"w\")\n",
    "file1.write(res)\n",
    "file1.close()"
   ]
  },
  {
   "cell_type": "code",
   "execution_count": null,
   "metadata": {},
   "outputs": [],
   "source": []
  }
 ],
 "metadata": {
  "kernelspec": {
   "display_name": "Python 3",
   "language": "python",
   "name": "python3"
  },
  "language_info": {
   "codemirror_mode": {
    "name": "ipython",
    "version": 3
   },
   "file_extension": ".py",
   "mimetype": "text/x-python",
   "name": "python",
   "nbconvert_exporter": "python",
   "pygments_lexer": "ipython3",
   "version": "3.6.11"
  }
 },
 "nbformat": 4,
 "nbformat_minor": 4
}
